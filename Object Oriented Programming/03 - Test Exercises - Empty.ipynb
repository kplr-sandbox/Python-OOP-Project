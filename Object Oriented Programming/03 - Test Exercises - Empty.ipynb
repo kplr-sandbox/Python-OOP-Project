{
 "cells": [
  {
   "attachments": {},
   "cell_type": "markdown",
   "id": "018f51b4",
   "metadata": {},
   "source": [
    "# Test Exercises"
   ]
  },
  {
   "attachments": {},
   "cell_type": "markdown",
   "id": "d77460b0",
   "metadata": {},
   "source": [
    "### Exercise 1\n",
    "\n",
    "Create a `class` for a book called `Book`.\n",
    "\n",
    "The attributes should be.\n",
    "- `title`\n",
    "- `author`\n",
    "- `pages`\n",
    "\n",
    "Try it out."
   ]
  },
  {
   "cell_type": "code",
   "execution_count": 2,
   "id": "f33f470f",
   "metadata": {},
   "outputs": [],
   "source": [
    "class book():\n",
    "    def __init__(self, title, author, pages):\n",
    "        self.title = title\n",
    "        self.author = author\n",
    "        self.pages = pages\n",
    "\n",
    "    def set_title(self, title):\n",
    "        self.title = title\n",
    "        \n",
    "    def get_title(self):\n",
    "        return self.title\n",
    "\n",
    "    def __str__(self):\n",
    "        return self.title + ' from ' + self.author + ' counts ' + str(self.pages) + ' pages'\n",
    "\n",
    "    def __lt__(self, other):\n",
    "        if self.title > other.title:\n",
    "            return self.title > other.title\n",
    "        return self.title < other.title"
   ]
  },
  {
   "cell_type": "code",
   "execution_count": 3,
   "id": "862e0298",
   "metadata": {},
   "outputs": [],
   "source": [
    "my_book=book('Les fleurs du mal', 'Baudelaire', 291)\n",
    "my_book2=book('Ca', 'S.King', 627)"
   ]
  },
  {
   "cell_type": "code",
   "execution_count": 4,
   "id": "3ef86d2e",
   "metadata": {},
   "outputs": [
    {
     "data": {
      "text/plain": [
       "'Ca'"
      ]
     },
     "execution_count": 4,
     "metadata": {},
     "output_type": "execute_result"
    }
   ],
   "source": [
    "my_book2.title"
   ]
  },
  {
   "cell_type": "code",
   "execution_count": 5,
   "id": "82431675",
   "metadata": {},
   "outputs": [
    {
     "data": {
      "text/plain": [
       "'test'"
      ]
     },
     "execution_count": 5,
     "metadata": {},
     "output_type": "execute_result"
    }
   ],
   "source": [
    "my_book.title=\"test\"\n",
    "my_book.title"
   ]
  },
  {
   "attachments": {},
   "cell_type": "markdown",
   "id": "9813e500",
   "metadata": {},
   "source": [
    "### Exercise 2\n",
    "\n",
    "Continue with the `Book` class.\n",
    "\n",
    "- Add get and set methods for the title.\n",
    "- Add a `__str__` method for a string representation of the class.\n",
    "\n",
    "Try it out."
   ]
  },
  {
   "cell_type": "code",
   "execution_count": 6,
   "id": "e124a777",
   "metadata": {},
   "outputs": [],
   "source": [
    "my_book.set_title('les fleurs du mal')"
   ]
  },
  {
   "cell_type": "code",
   "execution_count": 7,
   "id": "e4e039c3",
   "metadata": {},
   "outputs": [
    {
     "data": {
      "text/plain": [
       "'les fleurs du mal'"
      ]
     },
     "execution_count": 7,
     "metadata": {},
     "output_type": "execute_result"
    }
   ],
   "source": [
    "my_book.title"
   ]
  },
  {
   "cell_type": "code",
   "execution_count": 8,
   "id": "18f7a816",
   "metadata": {},
   "outputs": [
    {
     "name": "stdout",
     "output_type": "stream",
     "text": [
      "les fleurs du mal from Baudelaire counts 291 pages\n"
     ]
    }
   ],
   "source": [
    "print(my_book)\n"
   ]
  },
  {
   "cell_type": "code",
   "execution_count": null,
   "id": "02e2bc00",
   "metadata": {},
   "outputs": [],
   "source": []
  },
  {
   "cell_type": "code",
   "execution_count": null,
   "id": "dd0c77e7",
   "metadata": {},
   "outputs": [],
   "source": []
  },
  {
   "attachments": {},
   "cell_type": "markdown",
   "id": "57e274d1",
   "metadata": {},
   "source": [
    "### Exercise 3 (Challenging)\n",
    "\n",
    "Continue with the `Book` class\n",
    "\n",
    "- Add a `__lt__` method that compares to objects.\n",
    "\n",
    "Create a list of books, sort it, and see it works."
   ]
  },
  {
   "cell_type": "code",
   "execution_count": 9,
   "id": "08ceca17",
   "metadata": {},
   "outputs": [
    {
     "name": "stdout",
     "output_type": "stream",
     "text": [
      "True\n"
     ]
    }
   ],
   "source": [
    "print(my_book<my_book2)\n"
   ]
  },
  {
   "cell_type": "code",
   "execution_count": 10,
   "id": "c9f80062",
   "metadata": {},
   "outputs": [
    {
     "name": "stdout",
     "output_type": "stream",
     "text": [
      "{'title': 'les fleurs du mal', 'author': 'Baudelaire', 'pages': 291}\n"
     ]
    }
   ],
   "source": [
    "print(vars(my_book))"
   ]
  },
  {
   "cell_type": "code",
   "execution_count": null,
   "id": "44f29f12",
   "metadata": {},
   "outputs": [],
   "source": []
  }
 ],
 "metadata": {
  "kernelspec": {
   "display_name": "Python 3 (ipykernel)",
   "language": "python",
   "name": "python3"
  },
  "language_info": {
   "codemirror_mode": {
    "name": "ipython",
    "version": 3
   },
   "file_extension": ".py",
   "mimetype": "text/x-python",
   "name": "python",
   "nbconvert_exporter": "python",
   "pygments_lexer": "ipython3",
   "version": "3.10.4"
  }
 },
 "nbformat": 4,
 "nbformat_minor": 5
}
