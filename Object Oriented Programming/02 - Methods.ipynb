{
 "cells": [
  {
   "cell_type": "markdown",
   "id": "83a3d9f2",
   "metadata": {},
   "source": [
    "# Methods on Classes / NEED-TO-KNOW\n",
    "\n",
    "Methods are like functions but defined inside the body of the class.\n",
    "\n",
    "They can perform operations with the attributes of the object.\n",
    "\n",
    "```Python\n",
    "class Person:\n",
    "    def __init__(self, name, age):\n",
    "        self.name = name\n",
    "        self.age = age\n",
    "\n",
    "    def set_name(self, name):\n",
    "        self.name = name\n",
    "        \n",
    "    def get_name(self):\n",
    "        return self.name\n",
    "```"
   ]
  },
  {
   "cell_type": "code",
   "execution_count": 15,
   "id": "42e1beda",
   "metadata": {},
   "outputs": [],
   "source": [
    "class Person:\n",
    "    def __init__(self, name, age):\n",
    "        self.name = name\n",
    "        self.age = age\n",
    "\n",
    "    def set_name(self, name):\n",
    "        self.name = name\n",
    "\n",
    "    def get_name(self):\n",
    "        return self.name"
   ]
  },
  {
   "cell_type": "code",
   "execution_count": 16,
   "id": "497d1a8f",
   "metadata": {},
   "outputs": [],
   "source": [
    "p1 = Person('John', 42)"
   ]
  },
  {
   "cell_type": "code",
   "execution_count": 17,
   "id": "3dff09e1",
   "metadata": {},
   "outputs": [
    {
     "data": {
      "text/plain": [
       "'John'"
      ]
     },
     "execution_count": 17,
     "metadata": {},
     "output_type": "execute_result"
    }
   ],
   "source": [
    "p1.get_name()"
   ]
  },
  {
   "cell_type": "code",
   "execution_count": 18,
   "id": "5edbdc74",
   "metadata": {},
   "outputs": [],
   "source": [
    "p1.set_name('James')"
   ]
  },
  {
   "cell_type": "code",
   "execution_count": 19,
   "id": "85b77636",
   "metadata": {},
   "outputs": [
    {
     "data": {
      "text/plain": [
       "'James'"
      ]
     },
     "execution_count": 19,
     "metadata": {},
     "output_type": "execute_result"
    }
   ],
   "source": [
    "p1.get_name()"
   ]
  },
  {
   "cell_type": "code",
   "execution_count": 20,
   "id": "bc9db45e",
   "metadata": {},
   "outputs": [],
   "source": [
    "p1.name = 'Victor'"
   ]
  },
  {
   "cell_type": "code",
   "execution_count": 21,
   "id": "05b14258",
   "metadata": {},
   "outputs": [
    {
     "data": {
      "text/plain": [
       "'Victor'"
      ]
     },
     "execution_count": 21,
     "metadata": {},
     "output_type": "execute_result"
    }
   ],
   "source": [
    "p1.name"
   ]
  },
  {
   "cell_type": "code",
   "execution_count": 22,
   "id": "6f850bf7",
   "metadata": {},
   "outputs": [
    {
     "data": {
      "text/plain": [
       "'Victor'"
      ]
     },
     "execution_count": 22,
     "metadata": {},
     "output_type": "execute_result"
    }
   ],
   "source": [
    "p1.get_name()"
   ]
  },
  {
   "cell_type": "code",
   "execution_count": 23,
   "id": "afc9407d",
   "metadata": {},
   "outputs": [
    {
     "name": "stdout",
     "output_type": "stream",
     "text": [
      "<__main__.Person object at 0x7f1c272c4040>\n"
     ]
    }
   ],
   "source": [
    "print(p1)"
   ]
  },
  {
   "cell_type": "code",
   "execution_count": null,
   "id": "fbc12b5b",
   "metadata": {},
   "outputs": [],
   "source": []
  },
  {
   "cell_type": "markdown",
   "id": "8a29554d",
   "metadata": {},
   "source": [
    "### Special Methods\n",
    "\n",
    "Python classes can implement certain operations with special method names.\n",
    "\n",
    "These methods are not called directly.\n",
    "\n",
    "Here are a few.\n",
    "```Python\n",
    "class Person:\n",
    "    def __init__(self, name, age):\n",
    "        self.name = name\n",
    "        self.age = age\n",
    "\n",
    "    def set_name(self, name):\n",
    "        self.name = name\n",
    "        \n",
    "    def get_name(self):\n",
    "        return self.name\n",
    "    \n",
    "    def __str__(self):\n",
    "        return f'name: {self.name}, age: {self.age}'\n",
    "    \n",
    "    def __lt__(self, other):\n",
    "        if self.age == other.age:\n",
    "            return self.name < other.name\n",
    "        return self.age < other.age\n",
    "```"
   ]
  },
  {
   "cell_type": "code",
   "execution_count": 24,
   "id": "a933a160",
   "metadata": {},
   "outputs": [],
   "source": [
    "class Person:\n",
    "    def __init__(self, name, age):\n",
    "        self.name = name\n",
    "        self.age = age\n",
    "\n",
    "    def set_name(self, name):\n",
    "        self.name = name\n",
    "\n",
    "    def get_name(self):\n",
    "        return self.name\n",
    "\n",
    "    def __str__(self):\n",
    "        return self.name + ' (' + str(self.age) + ')'\n",
    "    \n",
    "    def __repr__(self):\n",
    "        return self.name + ' (' + str(self.age) + ')'       \n",
    "\n",
    "    def __lt__(self, other):\n",
    "        if self.age == other.age:\n",
    "            return self.name < other.name\n",
    "        return self.age < other.age"
   ]
  },
  {
   "cell_type": "code",
   "execution_count": 25,
   "id": "85e5cbc6",
   "metadata": {},
   "outputs": [
    {
     "name": "stdout",
     "output_type": "stream",
     "text": [
      "James (16)\n"
     ]
    }
   ],
   "source": [
    "p1 = Person('James', 16)\n",
    "print(p1)"
   ]
  },
  {
   "cell_type": "code",
   "execution_count": 32,
   "id": "84b05d96",
   "metadata": {},
   "outputs": [],
   "source": [
    "p2 = Person('Anna', 16)"
   ]
  },
  {
   "cell_type": "code",
   "execution_count": 34,
   "id": "10add635",
   "metadata": {},
   "outputs": [
    {
     "data": {
      "text/plain": [
       "False"
      ]
     },
     "execution_count": 34,
     "metadata": {},
     "output_type": "execute_result"
    }
   ],
   "source": [
    "p1 < p2"
   ]
  },
  {
   "cell_type": "code",
   "execution_count": 28,
   "id": "83d56bf5",
   "metadata": {},
   "outputs": [],
   "source": [
    "people = [Person('James', 16), Person('Anna', 16), Person('Charles', 15)]"
   ]
  },
  {
   "cell_type": "code",
   "execution_count": 29,
   "id": "b9e0fb5d",
   "metadata": {},
   "outputs": [
    {
     "name": "stdout",
     "output_type": "stream",
     "text": [
      "[Charles (15), Anna (16), James (16)]\n"
     ]
    }
   ],
   "source": [
    "people.sort()\n",
    "print(people)"
   ]
  },
  {
   "cell_type": "code",
   "execution_count": null,
   "id": "1b52c819",
   "metadata": {},
   "outputs": [],
   "source": []
  },
  {
   "cell_type": "code",
   "execution_count": null,
   "id": "92a7c33c",
   "metadata": {},
   "outputs": [],
   "source": []
  },
  {
   "cell_type": "code",
   "execution_count": null,
   "id": "4b359834",
   "metadata": {},
   "outputs": [],
   "source": []
  },
  {
   "cell_type": "markdown",
   "id": "c89f7e6d",
   "metadata": {},
   "source": [
    "### `class` vs `dict`\n",
    "\n",
    "Could it all be implemented by a dict?\n",
    "\n",
    "```Python\n",
    "person = {\n",
    "    'name': 'James',\n",
    "    'age': 10\n",
    "}\n",
    "\n",
    "# Get name\n",
    "person['name']\n",
    "\n",
    "# Set name\n",
    "person['name'] = 'Jones'\n",
    "\n",
    "# string (__str__)\n",
    "def person_str(person):\n",
    "    return f'name: {person[\"name\"]}, age: {person[\"age\"]}'\n",
    "\n",
    "# ...\n",
    "```\n",
    "\n"
   ]
  },
  {
   "cell_type": "code",
   "execution_count": 30,
   "id": "e7a993db",
   "metadata": {},
   "outputs": [],
   "source": [
    "person = {\n",
    "    'name': 'James',\n",
    "    'age': 10\n",
    "}\n",
    "\n",
    "# Get name\n",
    "person['name']\n",
    "\n",
    "# Set name\n",
    "person['name'] = 'Jones'\n",
    "\n",
    "# string (__str__)\n",
    "def person_str(person):\n",
    "    return f'name: {person[\"name\"]}, age: {person[\"age\"]}'\n"
   ]
  },
  {
   "cell_type": "code",
   "execution_count": 31,
   "id": "3efffe81",
   "metadata": {},
   "outputs": [
    {
     "data": {
      "text/plain": [
       "'name: Jones, age: 10'"
      ]
     },
     "execution_count": 31,
     "metadata": {},
     "output_type": "execute_result"
    }
   ],
   "source": [
    "person_str(person)"
   ]
  },
  {
   "cell_type": "code",
   "execution_count": null,
   "id": "151f6c92",
   "metadata": {},
   "outputs": [],
   "source": []
  },
  {
   "cell_type": "code",
   "execution_count": null,
   "id": "f4ee6d77",
   "metadata": {},
   "outputs": [],
   "source": []
  }
 ],
 "metadata": {
  "kernelspec": {
   "display_name": "Python 3 (ipykernel)",
   "language": "python",
   "name": "python3"
  },
  "language_info": {
   "codemirror_mode": {
    "name": "ipython",
    "version": 3
   },
   "file_extension": ".py",
   "mimetype": "text/x-python",
   "name": "python",
   "nbconvert_exporter": "python",
   "pygments_lexer": "ipython3",
   "version": "3.10.4"
  }
 },
 "nbformat": 4,
 "nbformat_minor": 5
}
