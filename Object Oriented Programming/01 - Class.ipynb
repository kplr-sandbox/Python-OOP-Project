{
 "cells": [
  {
   "cell_type": "markdown",
   "id": "315a1e16",
   "metadata": {},
   "source": [
    "# Object-Oriented Programming / NEED-TO-KNOW\n",
    "\n",
    "Object-Oriented Programming in Python is often reffered to the coding practice by creating your own classes.\n",
    "\n",
    "Remember that \"everything\" in Python are objects.\n",
    "\n",
    "Example\n",
    "```Python\n",
    "# A Python list is an object\n",
    "\n",
    "lst = [1, 2, 3]\n",
    "\n",
    "# You can call (or apply) a method on it\n",
    "lst.append(4)\n",
    "```\n",
    "\n",
    "- Methods are like functions, just applied on objects.\n",
    "- Methods change the state of the object or use informations from the object"
   ]
  },
  {
   "cell_type": "code",
   "execution_count": 1,
   "id": "706eed7e",
   "metadata": {},
   "outputs": [],
   "source": [
    "lst = [1, 2, 3]"
   ]
  },
  {
   "cell_type": "code",
   "execution_count": 2,
   "id": "d33ed408",
   "metadata": {},
   "outputs": [],
   "source": [
    "lst.append(4)"
   ]
  },
  {
   "cell_type": "code",
   "execution_count": 3,
   "id": "ddb1a6bb",
   "metadata": {},
   "outputs": [
    {
     "data": {
      "text/plain": [
       "[1, 2, 3, 4]"
      ]
     },
     "execution_count": 3,
     "metadata": {},
     "output_type": "execute_result"
    }
   ],
   "source": [
    "lst"
   ]
  },
  {
   "cell_type": "code",
   "execution_count": 4,
   "id": "ac89ae14",
   "metadata": {},
   "outputs": [],
   "source": [
    "l2 = [1, 2, 3, 4, 5, 6, 7]"
   ]
  },
  {
   "cell_type": "code",
   "execution_count": 5,
   "id": "0b756af1",
   "metadata": {},
   "outputs": [
    {
     "data": {
      "text/plain": [
       "[1, 2, 3, 4, 5, 6, 7]"
      ]
     },
     "execution_count": 5,
     "metadata": {},
     "output_type": "execute_result"
    }
   ],
   "source": [
    "l2"
   ]
  },
  {
   "cell_type": "code",
   "execution_count": null,
   "id": "57a154cc",
   "metadata": {},
   "outputs": [],
   "source": []
  },
  {
   "cell_type": "markdown",
   "id": "95d815e5",
   "metadata": {},
   "source": [
    "### class\n",
    "\n",
    "User defined objects are created using the `class`keyword.\n",
    "\n",
    "The `class` is the blueprint of the object and you can create any number of objects from a `class` definition.\n",
    "\n",
    "There is a lot of syntax with `class`, but the minimal is as follows.\n",
    "\n",
    "```Python\n",
    "class Person:\n",
    "    def __init__(self, name, age):\n",
    "        self.name = name\n",
    "        self.age = age\n",
    "```"
   ]
  },
  {
   "cell_type": "code",
   "execution_count": 15,
   "id": "91d649fa",
   "metadata": {},
   "outputs": [],
   "source": [
    "class Person:\n",
    "    def __init__(self, name, age):\n",
    "        self.name = name\n",
    "        self.age = age"
   ]
  },
  {
   "cell_type": "code",
   "execution_count": 17,
   "id": "80c1c163",
   "metadata": {},
   "outputs": [],
   "source": [
    "p1 = Person('toto',56)"
   ]
  },
  {
   "cell_type": "code",
   "execution_count": 18,
   "id": "0ca30e42",
   "metadata": {},
   "outputs": [
    {
     "data": {
      "text/plain": [
       "56"
      ]
     },
     "execution_count": 18,
     "metadata": {},
     "output_type": "execute_result"
    }
   ],
   "source": [
    "p1.age"
   ]
  },
  {
   "cell_type": "code",
   "execution_count": 19,
   "id": "ffe024f3",
   "metadata": {},
   "outputs": [
    {
     "data": {
      "text/plain": [
       "'toto'"
      ]
     },
     "execution_count": 19,
     "metadata": {},
     "output_type": "execute_result"
    }
   ],
   "source": [
    "p1.name"
   ]
  },
  {
   "cell_type": "code",
   "execution_count": 20,
   "id": "a3c49b00",
   "metadata": {},
   "outputs": [],
   "source": [
    "p2 = Person('James', 16)"
   ]
  },
  {
   "cell_type": "code",
   "execution_count": 21,
   "id": "964d4034",
   "metadata": {},
   "outputs": [
    {
     "data": {
      "text/plain": [
       "(16, 'James')"
      ]
     },
     "execution_count": 21,
     "metadata": {},
     "output_type": "execute_result"
    }
   ],
   "source": [
    "p2.age, p2.name"
   ]
  },
  {
   "cell_type": "code",
   "execution_count": 22,
   "id": "f59c7535",
   "metadata": {},
   "outputs": [],
   "source": [
    "class MyPerson:\n",
    "    def __init__(self):\n",
    "        self.name = 'Rune'"
   ]
  },
  {
   "cell_type": "code",
   "execution_count": 23,
   "id": "e20f969d",
   "metadata": {},
   "outputs": [],
   "source": [
    "me = MyPerson()"
   ]
  },
  {
   "cell_type": "code",
   "execution_count": 24,
   "id": "d49e3dbd",
   "metadata": {},
   "outputs": [
    {
     "data": {
      "text/plain": [
       "'Rune'"
      ]
     },
     "execution_count": 24,
     "metadata": {},
     "output_type": "execute_result"
    }
   ],
   "source": [
    "me.name"
   ]
  },
  {
   "cell_type": "code",
   "execution_count": null,
   "id": "8b5f8aca",
   "metadata": {},
   "outputs": [],
   "source": []
  }
 ],
 "metadata": {
  "kernelspec": {
   "display_name": "Python 3 (ipykernel)",
   "language": "python",
   "name": "python3"
  },
  "language_info": {
   "codemirror_mode": {
    "name": "ipython",
    "version": 3
   },
   "file_extension": ".py",
   "mimetype": "text/x-python",
   "name": "python",
   "nbconvert_exporter": "python",
   "pygments_lexer": "ipython3",
   "version": "3.10.4"
  }
 },
 "nbformat": 4,
 "nbformat_minor": 5
}
