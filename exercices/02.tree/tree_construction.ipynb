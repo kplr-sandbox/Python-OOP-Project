{
 "cells": [
  {
   "cell_type": "markdown",
   "metadata": {},
   "source": [
    "# Programmation Orientée Objet"
   ]
  },
  {
   "cell_type": "markdown",
   "metadata": {},
   "source": [
    "- Nous allons à présent utiliser la classe **Tree** de la librairie **treelib** pour construire un arbre de données"
   ]
  },
  {
   "cell_type": "code",
   "execution_count": null,
   "metadata": {},
   "outputs": [],
   "source": [
    "# Import des modules nécessaires \n",
    "import json \n",
    "from unidecode import unidecode \n",
    "from treelib import Tree\n",
    "\n",
    "def create_tree_from_dict(tree, parent_node_id, parent_dict):\n",
    "    for key, value in parent_dict.items():\n",
    "        if isinstance(value, dict):\n",
    "            # Créer un nouveau noeud pour la clé courante du dictionnaire\n",
    "            new_node_id = f\"{parent_node_id}.{key}\"\n",
    "            tree.create_node(tag=key, identifier=new_node_id, parent=parent_node_id)\n",
    "            \n",
    "            # Créer récursivement le sous-arbre pour le dictionnaire courant\n",
    "            create_tree_from_dict(tree, new_node_id, value)\n",
    "        else:\n",
    "            # Créer un nouveau noeud pour la feuille courante du dictionnaire\n",
    "            leaf_node_id = f\"{parent_node_id}.{key}\"\n",
    "            tree.create_node(tag=f\"{key}: {value}\", identifier=leaf_node_id, parent=parent_node_id)"
   ]
  },
  {
   "cell_type": "code",
   "execution_count": 4,
   "metadata": {},
   "outputs": [],
   "source": [
    "# Exemple de dictionnaire\n",
    "my_dict = {\n",
    "    \"cle1\": {\n",
    "        \"souscle1\": \"valeur1\",\n",
    "        \"souscle2\": \"valeur2\",\n",
    "        \"souscle3\": \"valeur3\"\n",
    "    },\n",
    "    \"cle2\": \"valeur4\",\n",
    "    \"cle3\": {\n",
    "        \"souscle4\": \"valeur5\"\n",
    "    }\n",
    "}"
   ]
  },
  {
   "cell_type": "code",
   "execution_count": 5,
   "metadata": {},
   "outputs": [],
   "source": [
    "# Créer un nouvel arbre\n",
    "my_tree = Tree()"
   ]
  },
  {
   "cell_type": "code",
   "execution_count": 6,
   "metadata": {},
   "outputs": [
    {
     "data": {
      "text/plain": [
       "Node(tag=Racine, identifier=racine, data=None)"
      ]
     },
     "execution_count": 6,
     "metadata": {},
     "output_type": "execute_result"
    }
   ],
   "source": [
    "# Créer le noeud racine pour l'arbre\n",
    "my_tree.create_node(tag=\"Racine\", identifier=\"racine\")"
   ]
  },
  {
   "cell_type": "code",
   "execution_count": 7,
   "metadata": {},
   "outputs": [],
   "source": [
    "# Créer la structure de l'arbre à partir du dictionnaire\n",
    "create_tree_from_dict(my_tree, \"racine\", my_dict)"
   ]
  },
  {
   "cell_type": "code",
   "execution_count": 8,
   "metadata": {},
   "outputs": [
    {
     "name": "stdout",
     "output_type": "stream",
     "text": [
      "Racine\n",
      "├── cle1\n",
      "│   ├── souscle1: valeur1\n",
      "│   ├── souscle2: valeur2\n",
      "│   └── souscle3: valeur3\n",
      "├── cle2: valeur4\n",
      "└── cle3\n",
      "    └── souscle4: valeur5\n",
      "\n"
     ]
    }
   ],
   "source": [
    "# Afficher l'arbre\n",
    "my_tree.show()"
   ]
  },
  {
   "cell_type": "markdown",
   "metadata": {},
   "source": [
    "- Dans cet exemple, la fonction **create_tree_from_dict()** parcourt récursivement le dictionnaire d'entrée \n",
    "et ajoute chaque paire clé-valeur en tant que noeud dans l'arbre. \n",
    "\n",
    "- Si une valeur de dictionnaire est rencontrée, un nouveau noeud est créé pour la clé, \n",
    "et la fonction est appelée récursivement pour créer un sous-arbre pour la valeur de dictionnaire. \n",
    "\n",
    "- Si une valeur non-dictionnaire est rencontrée, un nouveau noeud est créé pour la paire clé-valeur.\n",
    "\n",
    "- Une fois que l'arbre est construit, sa méthode **show()** est appelée pour afficher la structure de l'arbre dans la console. \n"
   ]
  },
  {
   "cell_type": "markdown",
   "metadata": {},
   "source": []
  }
 ],
 "metadata": {
  "interpreter": {
   "hash": "51fe2fe87c7090012fc582c29733fd748a62ade8ad38a43f898c04f9d15da1d1"
  },
  "kernelspec": {
   "display_name": "Python 3.7.0 64-bit",
   "language": "python",
   "name": "python3"
  },
  "language_info": {
   "codemirror_mode": {
    "name": "ipython",
    "version": 3
   },
   "file_extension": ".py",
   "mimetype": "text/x-python",
   "name": "python",
   "nbconvert_exporter": "python",
   "pygments_lexer": "ipython3",
   "version": "3.10.4"
  },
  "orig_nbformat": 4
 },
 "nbformat": 4,
 "nbformat_minor": 2
}
