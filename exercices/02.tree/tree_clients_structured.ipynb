{
 "cells": [
  {
   "cell_type": "markdown",
   "metadata": {},
   "source": [
    "# Programmation Orientée Objet"
   ]
  },
  {
   "cell_type": "markdown",
   "metadata": {},
   "source": [
    "- A présent organisons un peu le code. \n",
    "- Nous allons utiliser des méthodes et fonctions pour isolers les modules"
   ]
  },
  {
   "cell_type": "markdown",
   "metadata": {},
   "source": [
    "Ce code est un exemple d'utilisation de fonctions et de méthodes pour organiser le code et le rendre plus lisible. \n",
    "- Il utilise les modules json, unidecode et treelib."
   ]
  },
  {
   "cell_type": "code",
   "execution_count": 16,
   "metadata": {},
   "outputs": [],
   "source": [
    "# Import des modules nécessaires\n",
    "import json\n",
    "from unidecode import unidecode\n",
    "from treelib import Tree\n",
    "import os\n"
   ]
  },
  {
   "cell_type": "markdown",
   "metadata": {},
   "source": [
    "- La fonction `json_dict_from_file()` est utilisée pour charger les données JSON à partir d'un fichier et les convertir en un dictionnaire Python structuré. \n",
    "Cette fonction utilise les modules json et unidecode pour effectuer cette conversion. La fonction retourne le dictionnaire Python."
   ]
  },
  {
   "cell_type": "code",
   "execution_count": 11,
   "metadata": {},
   "outputs": [],
   "source": [
    "def json_dict_from_file():\n",
    "    \"\"\"\n",
    "    Cette fonction ouvre et charge les données JSON du fichier\n",
    "    dans un dictionnaire Python.\n",
    "\n",
    "    Returns:\n",
    "        dict: le dictionnaire Python contenant les données JSON du fichier\n",
    "    \"\"\"\n",
    "    # Get the directory path of the current Python file\n",
    "    local_path = os.path.dirname(os.path.abspath(__file__))\n",
    "    # Chargement des données JSON à partir du fichier dans un dictionnaire python\n",
    "    json_data = json.load(open(os.path.join(local_path, 'json_data.json'), \"rb\"))\n",
    "    \n",
    "    # il est nécessaire de reconvertir le dictionnaire en chaine de caractere pour le traiter ensuite\n",
    "    json_str = json.dumps(json_data)\n",
    "\n",
    "    # Utilisation de la fonction unidecode pour enlever les accents et autres caractères spéciaux\n",
    "    json_data = (unidecode(json_str))\n",
    "\n",
    "    # Conversion de la chaine de caractere JSON à nouveau en dictionnaire Python\n",
    "    # Le dictionnaire python est plus pratique à manipuler que la chaine de caractère car il est structuré\n",
    "    json_dict = json.loads(json_data)\n",
    "\n",
    "    return json_dict\n"
   ]
  },
  {
   "cell_type": "markdown",
   "metadata": {},
   "source": [
    "- La fonction `create_tree_from_dict()` est utilisée pour créer un arbre treelib à partir d'un dictionnaire Python. \n",
    "Cette fonction prend en entrée l'arbre treelib, l'identifiant du noeud parent et le dictionnaire Python à partir duquel l'arbre doit être créé. Cette fonction utilise une approche récursive pour parcourir le dictionnaire et ajouter chaque élément en tant que noeud dans l'arbre treelib."
   ]
  },
  {
   "cell_type": "code",
   "execution_count": 13,
   "metadata": {},
   "outputs": [],
   "source": [
    "def create_tree_from_dict(tree, parent_node_id, parent_dict):\n",
    "    \"\"\"\n",
    "    Cette fonction crée un arbre à partir d'un dictionnaire.\n",
    "    Elle est appelée récursivement pour chaque sous-dictionnaire.\n",
    "\n",
    "    Args:\n",
    "        tree (Tree): un objet Tree de la bibliothèque treelib pour représenter l'arbre\n",
    "        parent_node_id (str): l'identifiant du noeud parent dans l'arbre\n",
    "        parent_dict (dict): le dictionnaire Python contenant les données à insérer dans l'arbre\n",
    "    \"\"\"\n",
    "    for key, value in parent_dict.items():\n",
    "        if isinstance(value, dict):\n",
    "            # Créer un nouveau noeud pour la clé courante du dictionnaire\n",
    "            new_node_id = f\"{parent_node_id}.{key}\"\n",
    "            tree.create_node(tag=key, identifier=new_node_id, parent=parent_node_id)\n",
    "            \n",
    "            # Créer récursivement le sous-arbre pour le dictionnaire courant\n",
    "            create_tree_from_dict(tree, new_node_id, value)\n",
    "        else:\n",
    "            # Créer un nouveau noeud pour la feuille courante du dictionnaire\n",
    "            leaf_node_id = f\"{parent_node_id}.{key}\"\n",
    "            tree.create_node(tag=f\"{key}: {value}\", identifier=leaf_node_id, parent=parent_node_id)"
   ]
  },
  {
   "cell_type": "markdown",
   "metadata": {},
   "source": [
    "- La méthode `main()` est utilisée pour appeler les fonctions json_dict_from_file() et create_tree_from_dict() \n",
    "et afficher l'arbre treelib résultant."
   ]
  },
  {
   "cell_type": "code",
   "execution_count": 14,
   "metadata": {},
   "outputs": [],
   "source": [
    "def main():\n",
    "    \"\"\"\n",
    "    Cette fonction est la fonction principale qui orchestre toutes les autres.\n",
    "    Elle charge les données JSON depuis un fichier, crée un objet Tree de la bibliothèque treelib,\n",
    "    et crée un arbre à partir des données JSON.\n",
    "\n",
    "    Elle affiche ensuite l'arbre créé.\n",
    "    \"\"\"\n",
    "    my_tree = Tree()\n",
    "    # Créer le noeud racine pour l'arbre\n",
    "    my_tree.create_node(tag=\"Racine\", identifier=\"racine\")\n",
    "\n",
    "    # Charger les données JSON depuis un fichier et créer la structure de l'arbre à partir du dictionnaire\n",
    "    json_dict = json_dict_from_file()\n",
    "    create_tree_from_dict(my_tree, \"racine\", json_dict)\n",
    "\n",
    "    # Afficher l'arbre\n",
    "    my_tree.show()"
   ]
  },
  {
   "cell_type": "markdown",
   "metadata": {},
   "source": [
    "- La condition if __name__ == '__main__': est utilisée pour s'assurer que le script est exécuté en tant que programme principal, \n",
    "et non importé en tant que module dans un autre script Python."
   ]
  },
  {
   "cell_type": "code",
   "execution_count": 17,
   "metadata": {},
   "outputs": [
    {
     "ename": "NameError",
     "evalue": "name '__file__' is not defined",
     "output_type": "error",
     "traceback": [
      "\u001b[0;31m---------------------------------------------------------------------------\u001b[0m",
      "\u001b[0;31mNameError\u001b[0m                                 Traceback (most recent call last)",
      "Cell \u001b[0;32mIn[17], line 3\u001b[0m\n\u001b[1;32m      1\u001b[0m \u001b[39mif\u001b[39;00m \u001b[39m__name__\u001b[39m \u001b[39m==\u001b[39m \u001b[39m'\u001b[39m\u001b[39m__main__\u001b[39m\u001b[39m'\u001b[39m:\n\u001b[1;32m      2\u001b[0m     \u001b[39m# Appeler la fonction principale\u001b[39;00m\n\u001b[0;32m----> 3\u001b[0m     main()\n",
      "Cell \u001b[0;32mIn[14], line 14\u001b[0m, in \u001b[0;36mmain\u001b[0;34m()\u001b[0m\n\u001b[1;32m     11\u001b[0m my_tree\u001b[39m.\u001b[39mcreate_node(tag\u001b[39m=\u001b[39m\u001b[39m\"\u001b[39m\u001b[39mRacine\u001b[39m\u001b[39m\"\u001b[39m, identifier\u001b[39m=\u001b[39m\u001b[39m\"\u001b[39m\u001b[39mracine\u001b[39m\u001b[39m\"\u001b[39m)\n\u001b[1;32m     13\u001b[0m \u001b[39m# Charger les données JSON depuis un fichier et créer la structure de l'arbre à partir du dictionnaire\u001b[39;00m\n\u001b[0;32m---> 14\u001b[0m json_dict \u001b[39m=\u001b[39m json_dict_from_file()\n\u001b[1;32m     15\u001b[0m create_tree_from_dict(my_tree, \u001b[39m\"\u001b[39m\u001b[39mracine\u001b[39m\u001b[39m\"\u001b[39m, json_dict)\n\u001b[1;32m     17\u001b[0m \u001b[39m# Afficher l'arbre\u001b[39;00m\n",
      "Cell \u001b[0;32mIn[11], line 10\u001b[0m, in \u001b[0;36mjson_dict_from_file\u001b[0;34m()\u001b[0m\n\u001b[1;32m      2\u001b[0m \u001b[39m\u001b[39m\u001b[39m\"\"\"\u001b[39;00m\n\u001b[1;32m      3\u001b[0m \u001b[39mCette fonction ouvre et charge les données JSON du fichier\u001b[39;00m\n\u001b[1;32m      4\u001b[0m \u001b[39mdans un dictionnaire Python.\u001b[39;00m\n\u001b[0;32m   (...)\u001b[0m\n\u001b[1;32m      7\u001b[0m \u001b[39m    dict: le dictionnaire Python contenant les données JSON du fichier\u001b[39;00m\n\u001b[1;32m      8\u001b[0m \u001b[39m\"\"\"\u001b[39;00m\n\u001b[1;32m      9\u001b[0m \u001b[39m# Get the directory path of the current Python file\u001b[39;00m\n\u001b[0;32m---> 10\u001b[0m local_path \u001b[39m=\u001b[39m os\u001b[39m.\u001b[39mpath\u001b[39m.\u001b[39mdirname(os\u001b[39m.\u001b[39mpath\u001b[39m.\u001b[39mabspath(\u001b[39m__file__\u001b[39;49m))\n\u001b[1;32m     11\u001b[0m \u001b[39m# Chargement des données JSON à partir du fichier dans un dictionnaire python\u001b[39;00m\n\u001b[1;32m     12\u001b[0m json_data \u001b[39m=\u001b[39m json\u001b[39m.\u001b[39mload(\u001b[39mopen\u001b[39m(os\u001b[39m.\u001b[39mpath\u001b[39m.\u001b[39mjoin(local_path, \u001b[39m'\u001b[39m\u001b[39mjson_data.json\u001b[39m\u001b[39m'\u001b[39m), \u001b[39m\"\u001b[39m\u001b[39mrb\u001b[39m\u001b[39m\"\u001b[39m))\n",
      "\u001b[0;31mNameError\u001b[0m: name '__file__' is not defined"
     ]
    }
   ],
   "source": [
    "if __name__ == '__main__':\n",
    "    # Appeler la fonction principale\n",
    "    main()"
   ]
  },
  {
   "cell_type": "markdown",
   "metadata": {},
   "source": [
    "En résumé, ce code \n",
    "     - charge des données JSON à partir d'un fichier, \n",
    "     - les convertit en un dictionnaire Python structuré, \n",
    "     - crée un arbre treelib à partir de ce dictionnaire \n",
    "     - et affiche l'arbre dans la console."
   ]
  }
 ],
 "metadata": {
  "interpreter": {
   "hash": "51fe2fe87c7090012fc582c29733fd748a62ade8ad38a43f898c04f9d15da1d1"
  },
  "kernelspec": {
   "display_name": "Python 3.7.0 64-bit",
   "language": "python",
   "name": "python3"
  },
  "language_info": {
   "codemirror_mode": {
    "name": "ipython",
    "version": 3
   },
   "file_extension": ".py",
   "mimetype": "text/x-python",
   "name": "python",
   "nbconvert_exporter": "python",
   "pygments_lexer": "ipython3",
   "version": "3.10.4"
  },
  "orig_nbformat": 4
 },
 "nbformat": 4,
 "nbformat_minor": 2
}
