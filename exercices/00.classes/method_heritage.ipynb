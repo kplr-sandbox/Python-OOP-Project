{
 "cells": [
  {
   "attachments": {},
   "cell_type": "markdown",
   "metadata": {},
   "source": [
    "# Programmation Orientée Objet"
   ]
  },
  {
   "attachments": {},
   "cell_type": "markdown",
   "metadata": {},
   "source": [
    "## A présent rajoutons une méthode afficher attributs dans chaque classe\n"
   ]
  },
  {
   "cell_type": "code",
   "execution_count": 5,
   "metadata": {},
   "outputs": [],
   "source": [
    "class Vehicule:\n",
    "    def __init__(self, marque, modele, annee):\n",
    "        self.marque = marque\n",
    "        self.modele = modele\n",
    "        self.annee = annee\n",
    "    \n",
    "    def afficher_attributs(self):\n",
    "        print(\"Attributs pour le véhicule :\")\n",
    "        print(\"- Marque :\", self.marque)\n",
    "        print(\"- Modèle :\", self.modele)\n",
    "        print(\"- Année :\", self.annee)\n",
    "\n",
    "class Voiture(Vehicule):\n",
    "    def __init__(self, marque, modele, annee, nb_portes):\n",
    "        super().__init__(marque, modele, annee)\n",
    "        self.nb_portes = nb_portes\n",
    "    \n",
    "    def afficher_attributs(self):\n",
    "        super().afficher_attributs()\n",
    "        print(\"- Nombre de portes :\", self.nb_portes)\n",
    "\n",
    "class Moto(Vehicule):\n",
    "    def __init__(self, marque, modele, annee, nb_roues):\n",
    "        super().__init__(marque, modele, annee)\n",
    "        self.nb_roues = nb_roues\n",
    "    \n",
    "    def afficher_attributs(self):\n",
    "        super().afficher_attributs()\n",
    "        print(\"- Nombre de roues :\", self.nb_roues)\n",
    "\n",
    "    "
   ]
  },
  {
   "cell_type": "code",
   "execution_count": 6,
   "metadata": {},
   "outputs": [],
   "source": [
    "# Création d'une instance de chaque classe\n",
    "voiture1 = Voiture(\"Renault\", \"Clio\", 2018, 5)\n",
    "moto1 = Moto(\"Yamaha\", \"MT-07\", 2020, 2)"
   ]
  },
  {
   "attachments": {},
   "cell_type": "markdown",
   "metadata": {},
   "source": [
    "- Dans cet exemple, la méthode **afficher_attributs** est incluse dans la classe **Vehicule**. \n",
    "- Elle affiche les attributs communs (**marque**, **modele** et **annee**) pour chaque instance de la classe.\n",
    "\n",
    "- Les méthodes **afficher_attributs** dans les classes **Moto** et **Voiture** redéfinissent la méthode de la classe mère <br>\n",
    "et appellent la méthode **afficher_attributs** de la **classe mère** à l'aide de la fonction **super()** pour afficher les attributs communs. "
   ]
  },
  {
   "cell_type": "code",
   "execution_count": 7,
   "metadata": {},
   "outputs": [
    {
     "name": "stdout",
     "output_type": "stream",
     "text": [
      "Attributs pour le véhicule :\n",
      "- Marque : Renault\n",
      "- Modèle : Clio\n",
      "- Année : 2018\n",
      "- Nombre de portes : 5\n"
     ]
    }
   ],
   "source": [
    "# Appel de la méthode afficher_attributs pour chaque instance\n",
    "voiture1.afficher_attributs()"
   ]
  },
  {
   "attachments": {},
   "cell_type": "markdown",
   "metadata": {},
   "source": [
    "- Ensuite, elles affichent les attributs spécifiques de chaque **classe fille** (**nb_portes** pour la classe **Voiture** et **nb_roues** pour la classe **Moto**).\n",
    "- Enfin, on crée une instance de chaque classe (**voiture1 et moto1**) et on appelle la méthode **afficher_attributs** \n",
    "  pour afficher les attributs et leurs valeurs pour chaque instance. \n",
    "- Notez que l'appel de la méthode est identique pour chaque classe **(voiture1.afficher_attributs() et moto1.afficher_attributs())**, \n",
    "car la méthode est maintenant définie dans la **classe mère**"
   ]
  },
  {
   "cell_type": "code",
   "execution_count": 8,
   "metadata": {},
   "outputs": [
    {
     "name": "stdout",
     "output_type": "stream",
     "text": [
      "Attributs pour le véhicule :\n",
      "- Marque : Yamaha\n",
      "- Modèle : MT-07\n",
      "- Année : 2020\n",
      "- Nombre de roues : 2\n"
     ]
    }
   ],
   "source": [
    "moto1.afficher_attributs()"
   ]
  },
  {
   "cell_type": "code",
   "execution_count": null,
   "metadata": {},
   "outputs": [],
   "source": []
  }
 ],
 "metadata": {
  "kernelspec": {
   "display_name": "venv",
   "language": "python",
   "name": "python3"
  },
  "language_info": {
   "codemirror_mode": {
    "name": "ipython",
    "version": 3
   },
   "file_extension": ".py",
   "mimetype": "text/x-python",
   "name": "python",
   "nbconvert_exporter": "python",
   "pygments_lexer": "ipython3",
   "version": "3.10.4"
  },
  "orig_nbformat": 4
 },
 "nbformat": 4,
 "nbformat_minor": 2
}
